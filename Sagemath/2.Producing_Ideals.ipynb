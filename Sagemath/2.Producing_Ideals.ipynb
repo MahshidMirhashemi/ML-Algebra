{
 "cells": [
  {
   "cell_type": "code",
   "execution_count": null,
   "metadata": {},
   "outputs": [],
   "source": [
    "%run 1.Functions.ipynb"
   ]
  },
  {
   "cell_type": "code",
   "execution_count": null,
   "metadata": {},
   "outputs": [],
   "source": [
    "for j in tqdm.tqdm(range(x1,x2)):\n",
    "    Ideal = Random_Ideal(gen_lambda = 1.5, terms_lambda = 2.5, deg_lambda = 1.5)   # parameters for producing ideals\n",
    "        \n",
    "          \n",
    "    with open(path_ideals + 'Ideal{}.pickle'.format(j), 'wb') as handle:\n",
    "        pickle.dump(Ideal , handle, protocol=pickle.HIGHEST_PROTOCOL)"
   ]
  },
  {
   "cell_type": "code",
   "execution_count": null,
   "metadata": {},
   "outputs": [],
   "source": [
    "with open(path_ideals + 'Ideal0.pickle', 'rb') as handle:\n",
    "    b = pickle.load(handle)\n",
    "print(b)"
   ]
  }
 ],
 "metadata": {
  "kernelspec": {
   "display_name": "Python 3 (ipykernel)",
   "language": "python",
   "name": "python3"
  },
  "language_info": {
   "codemirror_mode": {
    "name": "ipython",
    "version": 3
   },
   "file_extension": ".py",
   "mimetype": "text/x-python",
   "name": "python",
   "nbconvert_exporter": "python",
   "pygments_lexer": "ipython3",
   "version": "3.11.1"
  }
 },
 "nbformat": 4,
 "nbformat_minor": 4
}
