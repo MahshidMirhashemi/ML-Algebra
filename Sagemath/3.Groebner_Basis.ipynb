{
 "cells": [
  {
   "cell_type": "code",
   "execution_count": 1,
   "metadata": {},
   "outputs": [],
   "source": [
    "%run 1.Functions.ipynb"
   ]
  },
  {
   "cell_type": "code",
   "execution_count": 4,
   "metadata": {},
   "outputs": [
    {
     "name": "stderr",
     "output_type": "stream",
     "text": [
      "  0%|                                          | 5/2000 [00:00<00:46, 42.61it/s]"
     ]
    },
    {
     "name": "stdout",
     "output_type": "stream",
     "text": [
      "// ** redefining # (parameter def i_par; parameter list #;  ) standard.lib::groebner:838\n",
      "// ** redefining P (  def P=basering;) standard.lib::groebner:879\n",
      "// ** redefining i (ideal i=i_par; ) standard.lib::groebner:880\n",
      "// ** redefining method (  string method;                //all given methods as a coma separated string) standard.lib::groebner:891\n",
      "// ** redefining k (  int k;) standard.lib::groebner:892\n",
      "// ** redefining @Minpoly (  string @Minpoly = string(minpoly);      //minimal polynomial) standard.lib::groebner:902\n",
      "// ** redefining was_minpoly (  int was_minpoly;             //remembers if there was a minpoly in P) standard.lib::groebner:903\n",
      "// ** redefining Qideal (  ideal Qideal = ideal(P);      //defining the quotient ideal if P is a qring) standard.lib::groebner:909\n",
      "// ** redefining was_qring (  int was_qring;                //remembers if basering was a qring) standard.lib::groebner:910\n",
      "// ** redefining BRlist (  list BRlist = ring_list(P);     //ringlist of basering) standard.lib::groebner:917\n",
      "// ** redefining ord_P (  list ord_P = BRlist[3];       //should be available in all rings) standard.lib::groebner:920\n",
      "// ** redefining ordstr_P (  string ordstr_P = ordstr(P);) standard.lib::groebner:921\n",
      "// ** redefining nvars_P (  int nvars_P = nvars(P);) standard.lib::groebner:922\n",
      "// ** redefining npars_P (  int npars_P = npars(P);) standard.lib::groebner:923\n",
      "// ** redefining w (  intvec w;                     //for ringweights of basering P) standard.lib::groebner:924\n",
      "// ** redefining neg (  int neg=1-attrib (P,\"global\");) standard.lib::groebner:929\n",
      "// ** redefining opt (  intvec opt=option(get);) standard.lib::groebner:932\n",
      "// ** redefining s_opt (  string s_opt = option();) standard.lib::groebner:933\n",
      "// ** redefining p_opt (  int p_opt;) standard.lib::groebner:934\n",
      "// ** redefining algorithm (  string algorithm;       //possibilities: std, slimgb, stdorslimgb, mathicgb) standard.lib::groebner:954\n",
      "// ** redefining conversion (  string conversion;      //possibilities: hilb, fglm, hilborfglm, no) standard.lib::groebner:955\n",
      "// ** redefining partovar (  string partovar;        //possibilities: yes, no) standard.lib::groebner:956\n",
      "// ** redefining order (  string order;           //possibilities: simple, !simple) standard.lib::groebner:957\n",
      "// ** redefining direct (  string direct;          //possibilities: yes, no) standard.lib::groebner:958\n"
     ]
    },
    {
     "name": "stderr",
     "output_type": "stream",
     "text": [
      "100%|███████████████████████████████████████| 2000/2000 [02:16<00:00, 14.68it/s]\n"
     ]
    }
   ],
   "source": [
    "import tqdm\n",
    "\n",
    "for i in tqdm.tqdm(range(x1, x2)):\n",
    "    with open(path_ideals + 'Ideal{}.pickle'.format(i), 'rb') as handle:\n",
    "        F = pickle.load(handle)\n",
    "        I = ideal(f for f in F)\n",
    "        GB = I.groebner_basis()\n",
    "        with open(path_GB + 'GB{}.pickle'.format(i), 'wb') as handle:  \n",
    "            pickle.dump(GB , handle, protocol=pickle.HIGHEST_PROTOCOL)"
   ]
  },
  {
   "cell_type": "code",
   "execution_count": null,
   "metadata": {},
   "outputs": [],
   "source": []
  }
 ],
 "metadata": {
  "kernelspec": {
   "display_name": "SageMath 9.5",
   "language": "sage",
   "name": "sagemath-9.5"
  },
  "language_info": {
   "codemirror_mode": {
    "name": "ipython",
    "version": 3
   },
   "file_extension": ".py",
   "mimetype": "text/x-python",
   "name": "python",
   "nbconvert_exporter": "python",
   "pygments_lexer": "ipython3",
   "version": "3.9.9"
  }
 },
 "nbformat": 4,
 "nbformat_minor": 4
}
