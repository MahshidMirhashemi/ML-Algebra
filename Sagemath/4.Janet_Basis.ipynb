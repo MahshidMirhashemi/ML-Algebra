{
 "cells": [
  {
   "cell_type": "code",
   "execution_count": null,
   "metadata": {},
   "outputs": [],
   "source": [
    "%run 1.Functions.ipynb"
   ]
  },
  {
   "cell_type": "code",
   "execution_count": null,
   "metadata": {},
   "outputs": [],
   "source": [
    "GB = []\n",
    "for i in tqdm.tqdm(range(x1,x2)):\n",
    "    with open(path_GB + 'GB{}.pickle'.format(i), 'rb') as handle:\n",
    "        gb = pickle.load(handle)\n",
    "        L = []\n",
    "        for p in gb:\n",
    "            L.append(p.lt())\n",
    "        GB.append(L)        "
   ]
  },
  {
   "cell_type": "code",
   "execution_count": null,
   "metadata": {},
   "outputs": [],
   "source": [
    "# timing of fast monomial completion\n",
    "JB = []\n",
    "t0 = time.time()\n",
    "for t in tqdm.tqdm(range(x1,x2)):\n",
    "    J = Fast_Monomial_Completion(GB[t])\n",
    "    JB.append(J)\n",
    "    with open(path_JB + 'JB{}.pickle'.format(t), 'wb') as handle:\n",
    "        pickle.dump(J , handle, protocol=pickle.HIGHEST_PROTOCOL)\n",
    "print(time.time() - t0)         "
   ]
  }
 ],
 "metadata": {
  "kernelspec": {
   "display_name": "SageMath 9.5",
   "language": "sage",
   "name": "sagemath-9.5"
  },
  "language_info": {
   "codemirror_mode": {
    "name": "ipython",
    "version": 3
   },
   "file_extension": ".py",
   "mimetype": "text/x-python",
   "name": "python",
   "nbconvert_exporter": "python",
   "pygments_lexer": "ipython3",
   "version": "3.9.9"
  }
 },
 "nbformat": 4,
 "nbformat_minor": 4
}
