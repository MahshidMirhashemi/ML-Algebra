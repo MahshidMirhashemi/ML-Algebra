{
 "cells": [
  {
   "cell_type": "code",
   "execution_count": 1,
   "metadata": {},
   "outputs": [],
   "source": [
    "%run 1.Functions.ipynb"
   ]
  },
  {
   "cell_type": "code",
   "execution_count": 4,
   "metadata": {},
   "outputs": [
    {
     "name": "stderr",
     "output_type": "stream",
     "text": [
      "100%|███████████████████████████████████████| 2000/2000 [02:14<00:00, 14.82it/s]\n"
     ]
    }
   ],
   "source": [
    "# compute the elementary moves\n",
    "for i in tqdm.tqdm(range(x1, x2)):\n",
    "    with open(path_ideals + 'Ideal{}.pickle'.format(i), 'rb') as handle:\n",
    "        I = pickle.load(handle)\n",
    "        t0 = time.time()\n",
    "        QS = QS_moves(I)\n",
    "        t = time.time() - t0\n",
    "        with open(path_moves + 'Moves{}.pickle'.format(i), 'wb') as handle:  \n",
    "            pickle.dump(QS , handle, protocol=pickle.HIGHEST_PROTOCOL)\n",
    "          "
   ]
  },
  {
   "cell_type": "code",
   "execution_count": 5,
   "metadata": {},
   "outputs": [
    {
     "name": "stdout",
     "output_type": "stream",
     "text": [
      "1898\n"
     ]
    }
   ],
   "source": [
    "# find the quasi stable ideals\n",
    "Moves = []\n",
    "for i in range(x1,x2):\n",
    "    with open(path_moves + 'Moves{}.pickle'.format(i), 'rb') as handle:\n",
    "        Moves.append(pickle.load(handle))\n",
    "c = 0\n",
    "L = []\n",
    "for M in Moves: \n",
    "    if len(M) != 0:\n",
    "        c += 1\n",
    "        L.append(M)\n",
    "print(c)"
   ]
  }
 ],
 "metadata": {
  "kernelspec": {
   "display_name": "SageMath 9.5",
   "language": "sage",
   "name": "sagemath-9.5"
  },
  "language_info": {
   "codemirror_mode": {
    "name": "ipython",
    "version": 3
   },
   "file_extension": ".py",
   "mimetype": "text/x-python",
   "name": "python",
   "nbconvert_exporter": "python",
   "pygments_lexer": "ipython3",
   "version": "3.9.9"
  }
 },
 "nbformat": 4,
 "nbformat_minor": 4
}
