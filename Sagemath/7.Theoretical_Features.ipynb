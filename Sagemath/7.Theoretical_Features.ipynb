{
 "cells": [
  {
   "cell_type": "code",
   "execution_count": null,
   "metadata": {},
   "outputs": [],
   "source": [
    "%run 1.Functions.ipynb"
   ]
  },
  {
   "cell_type": "code",
   "execution_count": null,
   "metadata": {},
   "outputs": [],
   "source": [
    "Moves = []\n",
    "for i in tqdm.tqdm(range(x1,x2)):\n",
    "    with open(path_moves + 'Moves{}.pickle'.format(i), 'rb') as handle:\n",
    "        QS = pickle.load(handle)\n",
    "        Moves.append(QS) "
   ]
  },
  {
   "cell_type": "code",
   "execution_count": null,
   "metadata": {},
   "outputs": [],
   "source": [
    "# save elemantary moves as a dataset\n",
    "L = []\n",
    "for M in Moves:\n",
    "    L.append(Moves_to_Features(M))\n",
    "if N == 4:\n",
    "    df = pd.DataFrame(L, columns = ['[2,1]', '[3,1]', '[3,2]',\n",
    "                                '[4,1]', '[4,2]', '[4,3]'])\n",
    "elif N == 5:\n",
    "    df = pd.DataFrame(L, columns = ['[2,1]', '[3,1]', '[3,2]',\n",
    "                                '[4,1]', '[4,2]', '[4,3]', '[5,1]', '[5,2]', '[5,3]', '[5,4]'])\n",
    "elif N == 6:\n",
    "    df = pd.DataFrame(L, columns = ['[2,1]', '[3,1]', '[3,2]',\n",
    "                                '[4,1]', '[4,2]', '[4,3]', '[5,1]', '[5,2]', '[5,3]', '[5,4]','[6,1]', '[6,2]', '[6,3]', '[6,4]', '[6,5]'])\n",
    "display(df)\n",
    "df.to_csv(path_dataset + '{}_Theoritical_Features.csv'.format(N))"
   ]
  }
 ],
 "metadata": {
  "kernelspec": {
   "display_name": "SageMath 9.5",
   "language": "sage",
   "name": "sagemath-9.5"
  },
  "language_info": {
   "codemirror_mode": {
    "name": "ipython",
    "version": 3
   },
   "file_extension": ".py",
   "mimetype": "text/x-python",
   "name": "python",
   "nbconvert_exporter": "python",
   "pygments_lexer": "ipython3",
   "version": "3.9.9"
  }
 },
 "nbformat": 4,
 "nbformat_minor": 4
}
