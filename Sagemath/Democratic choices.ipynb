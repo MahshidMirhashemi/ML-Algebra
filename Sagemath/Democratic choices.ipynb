{
 "cells": [
  {
   "cell_type": "code",
   "execution_count": 2,
   "id": "d25d86b5-52bc-4a10-a109-c0846892dd22",
   "metadata": {},
   "outputs": [],
   "source": [
    "%run 1.Functions.ipynb\n",
    "\n",
    "N = 4\n",
    "P = number_of_variables(N)\n",
    "path = \"/Users/mahshid/Documents/ML_Algebra/Database/{}/{}_errors/\".format(N,N)"
   ]
  },
  {
   "cell_type": "code",
   "execution_count": 8,
   "id": "00b1c985-cff6-4bd5-b727-375c0d14305c",
   "metadata": {},
   "outputs": [],
   "source": [
    "def democratic_choice(m):\n",
    "    Max = m[0]\n",
    "    for i in range(len(m)):\n",
    "        if m[i][1] > Max[1]:\n",
    "            Max = m[i]\n",
    "    return Max[0]  "
   ]
  },
  {
   "cell_type": "code",
   "execution_count": 6,
   "id": "00287f7f-1d13-4c5d-ace4-e96773a53fde",
   "metadata": {},
   "outputs": [],
   "source": [
    "x1 = 0\n",
    "x2 = 10000\n",
    "Ideals = []\n",
    "for i in range(x1,x2):\n",
    "    with open(path_ideals + 'Ideal{}.pickle'.format(i), 'rb') as handle:\n",
    "        I = pickle.load(handle)\n",
    "        Ideals.append(I) \n",
    "\n",
    "\n",
    "Moves = []    # with frequency for 10000 ideals\n",
    "for i in range(x1,x2):\n",
    "    with open(path_moves + 'Moves{}.pickle'.format(i), 'rb') as handle:\n",
    "        QS = pickle.load(handle)\n",
    "        Moves.append(QS)\n",
    "\n",
    "\n",
    "non_QS_ideals = []\n",
    "for i in range(10000):\n",
    "    if Moves[i] != []:\n",
    "        non_QS_ideals.append(Ideals[i])"
   ]
  },
  {
   "cell_type": "code",
   "execution_count": 7,
   "id": "72bb194b-dfe2-44cc-a23f-ed737da84ab8",
   "metadata": {},
   "outputs": [
    {
     "data": {
      "text/plain": [
       "9509"
      ]
     },
     "execution_count": 7,
     "metadata": {},
     "output_type": "execute_result"
    }
   ],
   "source": [
    "len(non_QS_ideals)"
   ]
  },
  {
   "cell_type": "code",
   "execution_count": 21,
   "id": "ba0f50b7-9ac2-4c7b-b597-9b05862c4af4",
   "metadata": {},
   "outputs": [
    {
     "name": "stderr",
     "output_type": "stream",
     "text": [
      "  0%|          | 22/7607 [00:00<01:12, 103.98it/s]"
     ]
    },
    {
     "name": "stdout",
     "output_type": "stream",
     "text": [
      "// ** redefining # (parameter def i_par; parameter list #;  ) standard.lib::groebner:831\n",
      "// ** redefining P (  def P=basering;) standard.lib::groebner:872\n",
      "// ** redefining i (ideal i=i_par; ) standard.lib::groebner:873\n",
      "// ** redefining method (  string method;                //all given methods as a coma separated string) standard.lib::groebner:884\n",
      "// ** redefining k (  int k;) standard.lib::groebner:885\n",
      "// ** redefining @Minpoly (  string @Minpoly = string(minpoly);      //minimal polynomial) standard.lib::groebner:926\n",
      "// ** redefining was_minpoly (  int was_minpoly;             //remembers if there was a minpoly in P) standard.lib::groebner:927\n",
      "// ** redefining Qideal (  ideal Qideal = ideal(P);      //defining the quotient ideal if P is a qring) standard.lib::groebner:933\n",
      "// ** redefining was_qring (  int was_qring;                //remembers if basering was a qring) standard.lib::groebner:934\n",
      "// ** redefining BRlist (  list BRlist = ring_list(P);     //ringlist of basering) standard.lib::groebner:941\n",
      "// ** redefining ord_P (  list ord_P = BRlist[3];       //should be available in all rings) standard.lib::groebner:944\n",
      "// ** redefining ordstr_P (  string ordstr_P = ordstr(P);) standard.lib::groebner:945\n",
      "// ** redefining nvars_P (  int nvars_P = nvars(P);) standard.lib::groebner:946\n",
      "// ** redefining npars_P (  int npars_P = npars(P);) standard.lib::groebner:947\n",
      "// ** redefining w (  intvec w;                     //for ringweights of basering P) standard.lib::groebner:948\n",
      "// ** redefining neg (  int neg=1-attrib (P,\"global\");) standard.lib::groebner:953\n",
      "// ** redefining opt (  intvec opt=option(get);) standard.lib::groebner:956\n",
      "// ** redefining s_opt (  string s_opt = option();) standard.lib::groebner:957\n",
      "// ** redefining p_opt (  int p_opt;) standard.lib::groebner:958\n",
      "// ** redefining algorithm (  string algorithm;       //possibilities: std, slimgb, stdorslimgb, mathicgb) standard.lib::groebner:978\n",
      "// ** redefining conversion (  string conversion;      //possibilities: hilb, fglm, hilborfglm, no) standard.lib::groebner:979\n",
      "// ** redefining partovar (  string partovar;        //possibilities: yes, no) standard.lib::groebner:980\n",
      "// ** redefining order (  string order;           //possibilities: simple, !simple) standard.lib::groebner:981\n",
      "// ** redefining direct (  string direct;          //possibilities: yes, no) standard.lib::groebner:982\n"
     ]
    },
    {
     "name": "stderr",
     "output_type": "stream",
     "text": [
      "100%|██████████| 7607/7607 [08:37<00:00, 14.71it/s]"
     ]
    },
    {
     "name": "stdout",
     "output_type": "stream",
     "text": [
      "517.1211388111115\n"
     ]
    },
    {
     "name": "stderr",
     "output_type": "stream",
     "text": [
      "\n"
     ]
    }
   ],
   "source": [
    "from sklearn.model_selection import train_test_split\n",
    "train_ideals, test_ideals = train_test_split(non_QS_ideals, test_size=1902, random_state=42)\n",
    "\n",
    "t0 = time.time()\n",
    "demo_choices = []\n",
    "for I in tqdm.tqdm(train_ideals):\n",
    "    moves = QS_moves(I)\n",
    "    demo_choices.append(democratic_choice(moves))\n",
    "\n",
    "print(time.time()- t0)"
   ]
  },
  {
   "cell_type": "code",
   "execution_count": 22,
   "id": "dffc06c2-817a-43a8-beec-54db3f3b613b",
   "metadata": {},
   "outputs": [
    {
     "name": "stderr",
     "output_type": "stream",
     "text": [
      "100%|██████████| 1902/1902 [02:24<00:00, 13.14it/s]"
     ]
    },
    {
     "name": "stdout",
     "output_type": "stream",
     "text": [
      "144.7163107395172\n"
     ]
    },
    {
     "name": "stderr",
     "output_type": "stream",
     "text": [
      "\n"
     ]
    }
   ],
   "source": [
    "t0 = time.time()\n",
    "demo_choices_test = []\n",
    "for I in tqdm.tqdm(test_ideals):\n",
    "    moves = QS_moves(I)\n",
    "    demo_choices_test.append(democratic_choice(moves))\n",
    "\n",
    "print(time.time()- t0)"
   ]
  },
  {
   "cell_type": "code",
   "execution_count": null,
   "id": "8a80cbc0-ea1b-414e-8573-cb5748663c52",
   "metadata": {},
   "outputs": [],
   "source": [
    "democratic_accuracy = 0\n",
    "for i in range(len(Y)):\n",
    "    if Y[i] == demo_choices[i]:\n",
    "        democratic_accuracy += 1\n",
    "round(democratic_accuracy/9509, 2) "
   ]
  }
 ],
 "metadata": {
  "kernelspec": {
   "display_name": "SageMath 10.2",
   "language": "sage",
   "name": "sagemath-10.2"
  },
  "language_info": {
   "codemirror_mode": {
    "name": "ipython",
    "version": 3
   },
   "file_extension": ".py",
   "mimetype": "text/x-python",
   "name": "python",
   "nbconvert_exporter": "python",
   "pygments_lexer": "ipython3",
   "version": "3.11.1"
  }
 },
 "nbformat": 4,
 "nbformat_minor": 5
}
