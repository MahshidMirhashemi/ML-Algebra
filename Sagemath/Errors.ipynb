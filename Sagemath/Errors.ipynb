{
 "cells": [
  {
   "cell_type": "code",
   "execution_count": 1,
   "metadata": {},
   "outputs": [],
   "source": [
    "%run 1.Functions.ipynb\n",
    "%run Old_Functions.ipynb"
   ]
  },
  {
   "cell_type": "code",
   "execution_count": 38,
   "metadata": {},
   "outputs": [],
   "source": [
    "N = 4\n",
    "P = number_of_variables(N)\n",
    "path = \"/Users/mahshid/Documents/ML_Algebra/Database/{}/{}_errors/\".format(N,N)\n",
    "\n",
    "df_knn = pd.read_csv(path + \"4_KNN_errors.csv\", index_col=0)\n",
    "df_svm = pd.read_csv(path + \"4_SVM_errors.csv\", index_col=0)\n",
    "df_mlp = pd.read_csv(path + \"4_MLP_errors.csv\", index_col=0)\n",
    "df_dt = pd.read_csv(path + \"4_DT_errors.csv\", index_col=0)\n",
    "df_lr = pd.read_csv(path + \"4_LR_errors.csv\", index_col=0)\n",
    "\n",
    "with open(path + 'T_KNN_test.pickle'.format(i), 'rb') as handle:\n",
    "    T_KNN = pickle.load(handle)\n",
    "        \n",
    "with open(path + 'P_KNN_test.pickle'.format(i), 'rb') as handle:\n",
    "    P_KNN = pickle.load(handle)   \n",
    "    \n",
    "with open(path + 'P_SVM_test.pickle'.format(i), 'rb') as handle:\n",
    "    P_SVM = pickle.load(handle)  \n",
    "    \n",
    "with open(path + 'T_SVM_test.pickle'.format(i), 'rb') as handle:\n",
    "    T_SVM = pickle.load(handle)  \n",
    "    \n",
    "with open(path + 'P_MLP_test.pickle'.format(i), 'rb') as handle:\n",
    "    P_MLP = pickle.load(handle)  \n",
    "    \n",
    "with open(path + 'T_MLP_test.pickle'.format(i), 'rb') as handle:\n",
    "    T_MLP = pickle.load(handle) \n",
    "\n",
    "with open(path + 'P_LR_test.pickle'.format(i), 'rb') as handle:\n",
    "    P_LR = pickle.load(handle)  \n",
    "    \n",
    "with open(path + 'T_LR_test.pickle'.format(i), 'rb') as handle:\n",
    "    T_LR = pickle.load(handle)     \n",
    "    \n",
    "with open(path + 'P_DT_test.pickle'.format(i), 'rb') as handle:\n",
    "    P_DT = pickle.load(handle)  \n",
    "    \n",
    "with open(path + 'T_DT_test.pickle'.format(i), 'rb') as handle:\n",
    "    T_DT = pickle.load(handle)     "
   ]
  },
  {
   "cell_type": "code",
   "execution_count": 5,
   "metadata": {},
   "outputs": [],
   "source": [
    "x1 = 0\n",
    "x2 = 10000\n",
    "Ideals = []\n",
    "for i in range(x1,x2):\n",
    "    with open(path_ideals + 'Ideal{}.pickle'.format(i), 'rb') as handle:\n",
    "        I = pickle.load(handle)\n",
    "        Ideals.append(I) "
   ]
  },
  {
   "cell_type": "markdown",
   "metadata": {},
   "source": [
    "## Using value q in Volume for Errors"
   ]
  },
  {
   "cell_type": "code",
   "execution_count": 12,
   "metadata": {},
   "outputs": [],
   "source": [
    "import numpy as np\n",
    "import matplotlib.pyplot as plt"
   ]
  },
  {
   "cell_type": "code",
   "execution_count": 13,
   "metadata": {},
   "outputs": [],
   "source": [
    "def v_scores(I):\n",
    "    All_moves = []                                      # compute all possible moves\n",
    "    for i in range(2,len(P.gens()) + 1):\n",
    "        for j in range(1,i):\n",
    "            All_moves.append([i,j])       \n",
    "    Moves = []   \n",
    "    Ideal = ideal(f for f in I)                        \n",
    "    GB = Ideal.groebner_basis() \n",
    "    H = Fast_Monomial_Completion(LT_I(GB))     \n",
    "    d = max_deg(H)\n",
    "    \n",
    "    for move in All_moves:                              # Choosing a MOVE\n",
    "        transformation = Transformation(I, move)        # Do the transformation on the ideal   \n",
    "        Ideal = ideal(f for f in transformation)                        \n",
    "        GB = Ideal.groebner_basis() \n",
    "        H = Fast_Monomial_Completion(LT_I(GB))     # Monomial Janet basis for the ideal after transfrmation\n",
    "        v = Volume_Polynomial_Pommaret2(H, 10 * d)\n",
    "        #V = Coefficients(v, len(P.gens())-1)\n",
    "        Moves.append([move,  v])  \n",
    "    #Moves = sorted(Moves, key=lambda x: x[1])      \n",
    "    return  Moves\n",
    "\n",
    "def f(m, move):   #score of a move in m\n",
    "    for i in range(len(m[1])):\n",
    "        if m[1][i][0] == move:\n",
    "            return m[1][i][1]\n",
    "\n",
    "def mo(n):\n",
    "    moves = [2,1],[3,1],[3,2],[4,1],[4,2],[4,3]\n",
    "    return moves[n-1]\n",
    "\n",
    "\n",
    "def B_score(B1, B2):  #B1: numerator, B2: denominator\n",
    "    for i in range(len(B1)):\n",
    "        if B1[i] != B2[i] and B1[i]!=0 and B2[i]!=0:\n",
    "            return round(B1[i]/B2[i],2)\n",
    "        elif B1[i]==0 or B2[i]==0:\n",
    "            return 0\n",
    "        elif B1 == B2:\n",
    "            return 1\n",
    "        "
   ]
  },
  {
   "cell_type": "code",
   "execution_count": 14,
   "metadata": {},
   "outputs": [],
   "source": [
    "x1 = 0\n",
    "x2 = 10000\n",
    "Ideals = []\n",
    "for i in range(x1,x2):\n",
    "    with open(path_ideals + 'Ideal{}.pickle'.format(i), 'rb') as handle:\n",
    "        I = pickle.load(handle)\n",
    "        Ideals.append(I) \n",
    "        \n",
    "        "
   ]
  },
  {
   "cell_type": "code",
   "execution_count": 15,
   "metadata": {},
   "outputs": [
    {
     "name": "stderr",
     "output_type": "stream",
     "text": [
      "100%|██████████| 528/528 [15:59<00:00,  1.82s/it]\n"
     ]
    }
   ],
   "source": [
    "M = []\n",
    "for i in tqdm.tqdm(index):\n",
    "    m = [i,v_scores(Ideals[i])]\n",
    "    M.append(m)\n",
    "    \n",
    "\n",
    "    \n",
    "    with open(path + 'scores/{}_scores.pickle'.format(i), 'wb') as handle:\n",
    "        pickle.dump(m , handle, protocol=pickle.HIGHEST_PROTOCOL) "
   ]
  },
  {
   "cell_type": "code",
   "execution_count": 36,
   "metadata": {},
   "outputs": [
    {
     "name": "stderr",
     "output_type": "stream",
     "text": [
      "100%|██████████| 528/528 [00:00<00:00, 2920.02it/s]\n"
     ]
    }
   ],
   "source": [
    "\n",
    "MV = []\n",
    "for i in tqdm.tqdm(index):\n",
    "    with open(path + 'scores/{}_scores.pickle'.format(i), 'rb') as handle:\n",
    "        m = pickle.load(handle)\n",
    "        MV.append(m)"
   ]
  },
  {
   "cell_type": "code",
   "execution_count": 39,
   "metadata": {},
   "outputs": [
    {
     "ename": "ValueError",
     "evalue": "6914 is not in list",
     "output_type": "error",
     "traceback": [
      "\u001b[0;31m---------------------------------------------------------------------------\u001b[0m",
      "\u001b[0;31mValueError\u001b[0m                                Traceback (most recent call last)",
      "Cell \u001b[0;32mIn [39], line 7\u001b[0m\n\u001b[1;32m      5\u001b[0m S1 \u001b[38;5;241m=\u001b[39m []\n\u001b[1;32m      6\u001b[0m \u001b[38;5;28;01mfor\u001b[39;00m i \u001b[38;5;129;01min\u001b[39;00m \u001b[38;5;28mrange\u001b[39m(\u001b[38;5;28mlen\u001b[39m(indices)):\n\u001b[0;32m----> 7\u001b[0m     e \u001b[38;5;241m=\u001b[39m \u001b[43m[\u001b[49m\u001b[43ml\u001b[49m\u001b[43m[\u001b[49m\u001b[43mInteger\u001b[49m\u001b[43m(\u001b[49m\u001b[38;5;241;43m0\u001b[39;49m\u001b[43m)\u001b[49m\u001b[43m]\u001b[49m\u001b[43m \u001b[49m\u001b[38;5;28;43;01mfor\u001b[39;49;00m\u001b[43m \u001b[49m\u001b[43ml\u001b[49m\u001b[43m \u001b[49m\u001b[38;5;129;43;01min\u001b[39;49;00m\u001b[43m \u001b[49m\u001b[43mM\u001b[49m\u001b[43m]\u001b[49m\u001b[38;5;241;43m.\u001b[39;49m\u001b[43mindex\u001b[49m\u001b[43m(\u001b[49m\u001b[43mindices\u001b[49m\u001b[43m[\u001b[49m\u001b[43mi\u001b[49m\u001b[43m]\u001b[49m\u001b[43m)\u001b[49m\n\u001b[1;32m      8\u001b[0m     r \u001b[38;5;241m=\u001b[39m np\u001b[38;5;241m.\u001b[39mrandom\u001b[38;5;241m.\u001b[39mchoice(Integer(\u001b[38;5;241m6\u001b[39m) ,size \u001b[38;5;241m=\u001b[39m Integer(\u001b[38;5;241m1\u001b[39m), p \u001b[38;5;241m=\u001b[39m [RealNumber(\u001b[38;5;124m'\u001b[39m\u001b[38;5;124m0.035\u001b[39m\u001b[38;5;124m'\u001b[39m) , RealNumber(\u001b[38;5;124m'\u001b[39m\u001b[38;5;124m0.1833\u001b[39m\u001b[38;5;124m'\u001b[39m) , RealNumber(\u001b[38;5;124m'\u001b[39m\u001b[38;5;124m0.041\u001b[39m\u001b[38;5;124m'\u001b[39m) , RealNumber(\u001b[38;5;124m'\u001b[39m\u001b[38;5;124m0.4697\u001b[39m\u001b[38;5;124m'\u001b[39m) , RealNumber(\u001b[38;5;124m'\u001b[39m\u001b[38;5;124m0.199\u001b[39m\u001b[38;5;124m'\u001b[39m) , RealNumber(\u001b[38;5;124m'\u001b[39m\u001b[38;5;124m0.072\u001b[39m\u001b[38;5;124m'\u001b[39m)])\n\u001b[1;32m      9\u001b[0m     S1\u001b[38;5;241m.\u001b[39mappend([f(M[e], mo(T[i])), f(M[e],mo(P[i])), f(M[e],mo(r[Integer(\u001b[38;5;241m0\u001b[39m)]))])\n",
      "\u001b[0;31mValueError\u001b[0m: 6914 is not in list"
     ]
    }
   ],
   "source": [
    "T = T_KNN   # for Volume\n",
    "P = P_KNN\n",
    "M = MV\n",
    "indices = list(df_knn.index)\n",
    "S1 = []\n",
    "for i in range(len(indices)):\n",
    "    e = [l[0] for l in M].index(indices[i])\n",
    "    r = np.random.choice(6 ,size = 1, p = [0.035 , 0.1833 , 0.041 , 0.4697 , 0.199 , 0.072])\n",
    "    S1.append([f(M[e], mo(T[i])), f(M[e],mo(P[i])), f(M[e],mo(r[0]))])\n",
    "\n",
    "    \n",
    "SS = [[float(s[1]/s[0]), float(s[2]/s[0])] for s in S1] # [V_M/V_T,   V_R/V_T]\n",
    "\n",
    "S = sorted(SS, key=lambda x: x[0]) \n",
    "\n",
    "\n",
    "#plt.plot(np.arange(len(T)), [s[2] for s in S], color = 'gray', alpha = 0.5)\n",
    "#plt.scatter(np.arange(len(T)), [s[1] for s in S] , s=10)\n",
    "plt.scatter(np.arange(len(T)), [s[0] for s in S], color = 'red', s=10, alpha = 0.5) \n",
    "#plt.show()\n",
    "#plt.title('KNN')\n",
    "plt.savefig(path + \"knn_v.png\")\n",
    "plt.show()\n",
    "plt.scatter(np.arange(len(T)), sorted([s[1] for s in S]) , s=8)\n",
    "plt.savefig(path + \"knn_random.png\")\n",
    "c = 0\n",
    "e = 0\n",
    "for s in S:\n",
    "    if s[0]>s[1]:\n",
    "        c+=1\n",
    "    elif s[0] == s[1]:\n",
    "        e += 1\n",
    "c_lr = round(c/len(S),2) \n",
    "e_lr = round(e/len(S),2)    \n",
    "print(c_lr)\n",
    "print(e_lr)"
   ]
  },
  {
   "cell_type": "code",
   "execution_count": 24,
   "metadata": {},
   "outputs": [
    {
     "data": {
      "image/png": "[encoded data removed]",
      "text/plain": [
       "<Figure size 640x480 with 1 Axes>"
      ]
     },
     "metadata": {},
     "output_type": "display_data"
    },
    {
     "name": "stdout",
     "output_type": "stream",
     "text": [
      "0.57\n",
      "0.19\n"
     ]
    },
    {
     "data": {
      "image/png": "[encoded data removed]",
      "text/plain": [
       "<Figure size 640x480 with 1 Axes>"
      ]
     },
     "metadata": {},
     "output_type": "display_data"
    }
   ],
   "source": [
    "T = T_SVM   # for Volume\n",
    "P = P_SVM\n",
    "M = MV\n",
    "indices = list(df_svm.index)\n",
    "S1 = []\n",
    "for i in range(len(indices)):\n",
    "    e = [l[0] for l in M].index(indices[i])\n",
    "    r = np.random.choice(6 ,size = 1, p = [0.035 , 0.1833 , 0.041 , 0.4697 , 0.199 , 0.072])\n",
    "    S1.append([f(M[e], mo(T[i])), f(M[e],mo(P[i])), f(M[e],mo(r[0]))])\n",
    "\n",
    "    \n",
    "SS = [[float(s[1]/s[0]), float(s[2]/s[0])] for s in S1] # [V_M/V_T,   V_R/V_T]\n",
    "\n",
    "S = sorted(SS, key=lambda x: x[0]) \n",
    "\n",
    "\n",
    "#plt.plot(np.arange(len(T)), [s[2] for s in S], color = 'gray', alpha = 0.5)\n",
    "#plt.scatter(np.arange(len(T)), [s[1] for s in S] , s=10)\n",
    "plt.scatter(np.arange(len(T)), [s[0] for s in S], color = 'red', s=10, alpha = 0.5) \n",
    "#plt.show()\n",
    "#plt.title('KNN')\n",
    "plt.savefig(path + \"svm_v.png\")\n",
    "plt.show()\n",
    "plt.scatter(np.arange(len(T)), sorted([s[1] for s in S]) , s=8)\n",
    "plt.savefig(path + \"svm_random.png\")\n",
    "c = 0\n",
    "e = 0\n",
    "for s in S:\n",
    "    if s[0]>s[1]:\n",
    "        c+=1\n",
    "    elif s[0] == s[1]:\n",
    "        e += 1\n",
    "c_lr = round(c/len(S),2) \n",
    "e_lr = round(e/len(S),2)    \n",
    "print(c_lr)\n",
    "print(e_lr)"
   ]
  },
  {
   "cell_type": "code",
   "execution_count": 22,
   "metadata": {},
   "outputs": [
    {
     "data": {
      "image/png": "[encoded data removed]",
      "text/plain": [
       "<Figure size 640x480 with 1 Axes>"
      ]
     },
     "metadata": {},
     "output_type": "display_data"
    },
    {
     "name": "stdout",
     "output_type": "stream",
     "text": [
      "0.5\n",
      "0.17\n"
     ]
    },
    {
     "data": {
      "image/png": "[encoded data removed]",
      "text/plain": [
       "<Figure size 640x480 with 1 Axes>"
      ]
     },
     "metadata": {},
     "output_type": "display_data"
    }
   ],
   "source": [
    "T = T_MLP   # for Volume\n",
    "P = P_MLP\n",
    "M = MV\n",
    "indices = list(df_mlp.index)\n",
    "S1 = []\n",
    "for i in range(len(indices)):\n",
    "    e = [l[0] for l in M].index(indices[i])\n",
    "    r = np.random.choice(6 ,size = 1, p = [0.035 , 0.1833 , 0.041 , 0.4697 , 0.199 , 0.072])\n",
    "    S1.append([f(M[e], mo(T[i])), f(M[e],mo(P[i])), f(M[e],mo(r[0]))])\n",
    "\n",
    "    \n",
    "SS = [[float(s[1]/s[0]), float(s[2]/s[0])] for s in S1] # [V_M/V_T,   V_R/V_T]\n",
    "\n",
    "S = sorted(SS, key=lambda x: x[0]) \n",
    "\n",
    "\n",
    "#plt.plot(np.arange(len(T)), [s[2] for s in S], color = 'gray', alpha = 0.5)\n",
    "#plt.scatter(np.arange(len(T)), [s[1] for s in S] , s=10)\n",
    "plt.scatter(np.arange(len(T)), [s[0] for s in S], color = 'red', s=10, alpha = 0.5) \n",
    "#plt.show()\n",
    "#plt.title('KNN')\n",
    "plt.savefig(path + \"mlp_v.png\")\n",
    "\n",
    "plt.show()\n",
    "plt.scatter(np.arange(len(T)), sorted([s[1] for s in S]) , s=10)\n",
    "plt.savefig(path + \"mlp_random.png\")\n",
    "c = 0\n",
    "e = 0\n",
    "for s in S:\n",
    "    if s[0]>s[1]:\n",
    "        c+=1\n",
    "    elif s[0] == s[1]:\n",
    "        e += 1\n",
    "c_lr = round(c/len(S),2) \n",
    "e_lr = round(e/len(S),2)    \n",
    "print(c_lr)\n",
    "print(e_lr)"
   ]
  },
  {
   "cell_type": "code",
   "execution_count": 23,
   "metadata": {},
   "outputs": [
    {
     "data": {
      "image/png": "[encoded data removed]",
      "text/plain": [
       "<Figure size 640x480 with 1 Axes>"
      ]
     },
     "metadata": {},
     "output_type": "display_data"
    },
    {
     "name": "stdout",
     "output_type": "stream",
     "text": [
      "0.45\n",
      "0.15\n"
     ]
    },
    {
     "data": {
      "image/png": "[encoded data removed]",
      "text/plain": [
       "<Figure size 640x480 with 1 Axes>"
      ]
     },
     "metadata": {},
     "output_type": "display_data"
    }
   ],
   "source": [
    "T = T_DT   # for Volume\n",
    "P = P_DT\n",
    "M = MV\n",
    "indices = list(df_dt.index)\n",
    "S1 = []\n",
    "for i in range(len(indices)):\n",
    "    e = [l[0] for l in M].index(indices[i])\n",
    "    r = np.random.choice(6 ,size = 1, p = [0.035 , 0.1833 , 0.041 , 0.4697 , 0.199 , 0.072])\n",
    "    S1.append([f(M[e], mo(T[i])), f(M[e],mo(P[i])), f(M[e],mo(r[0]))])\n",
    "\n",
    "    \n",
    "SS = [[float(s[1]/s[0]), float(s[2]/s[0])] for s in S1] # [V_M/V_T,   V_R/V_T]\n",
    "\n",
    "S = sorted(SS, key=lambda x: x[0]) \n",
    "\n",
    "\n",
    "#plt.plot(np.arange(len(T)), [s[2] for s in S], color = 'gray', alpha = 0.5)\n",
    "#plt.scatter(np.arange(len(T)), [s[1] for s in S] , s=10)\n",
    "plt.scatter(np.arange(len(T)), [s[0] for s in S], color = 'red', s=10, alpha = 0.5) \n",
    "#plt.show()\n",
    "#plt.title('KNN')\n",
    "plt.savefig(path + \"dt_v.png\")\n",
    "\n",
    "plt.show()\n",
    "plt.scatter(np.arange(len(T)), sorted([s[1] for s in S]) , s=8)\n",
    "plt.savefig(path + \"dt_random.png\")\n",
    "c = 0\n",
    "e = 0\n",
    "for s in S:\n",
    "    if s[0]>s[1]:\n",
    "        c+=1\n",
    "    elif s[0] == s[1]:\n",
    "        e += 1\n",
    "c_lr = round(c/len(S),2) \n",
    "e_lr = round(e/len(S),2)    \n",
    "print(c_lr)\n",
    "print(e_lr)"
   ]
  },
  {
   "cell_type": "code",
   "execution_count": 28,
   "metadata": {},
   "outputs": [
    {
     "data": {
      "image/png": "[encoded data removed]",
      "text/plain": [
       "<Figure size 640x480 with 1 Axes>"
      ]
     },
     "metadata": {},
     "output_type": "display_data"
    },
    {
     "name": "stdout",
     "output_type": "stream",
     "text": [
      "0.6\n",
      "0.15\n"
     ]
    },
    {
     "data": {
      "image/png": "[encoded data removed]",
      "text/plain": [
       "<Figure size 640x480 with 1 Axes>"
      ]
     },
     "metadata": {},
     "output_type": "display_data"
    }
   ],
   "source": [
    "T = T_LR   # for Volume\n",
    "P = P_LR\n",
    "M = MV\n",
    "indices = list(df_lr.index)\n",
    "S1 = []\n",
    "for i in range(len(indices)):\n",
    "    e = [l[0] for l in M].index(indices[i])\n",
    "    r = np.random.choice(6 ,size = 1, p = [0.035 , 0.1833 , 0.041 , 0.4697 , 0.199 , 0.072])\n",
    "    S1.append([f(M[e], mo(T[i])), f(M[e],mo(P[i])), f(M[e],mo(r[0]))])\n",
    "\n",
    "    \n",
    "SS = [[float(s[1]/s[0]), float(s[2]/s[0])] for s in S1] # [V_M/V_T,   V_R/V_T]\n",
    "\n",
    "S = sorted(SS, key=lambda x: x[0]) \n",
    "\n",
    "\n",
    "#plt.plot(np.arange(len(T)), [s[2] for s in S], color = 'gray', alpha = 0.5)\n",
    "#plt.scatter(np.arange(len(T)), [s[1] for s in S] , s=10)\n",
    "plt.scatter(np.arange(len(T)), [s[0] for s in S], color = 'red', s=10, alpha = 0.5) \n",
    "#plt.show()\n",
    "#plt.title('KNN')\n",
    "plt.savefig(path + \"lr_v.png\")\n",
    "\n",
    "plt.show()\n",
    "plt.scatter(np.arange(len(T)), sorted([s[1] for s in S]) , s=8)\n",
    "plt.savefig(path + \"lr_random.png\")\n",
    "c = 0\n",
    "e = 0\n",
    "for s in S:\n",
    "    if s[0]>s[1]:\n",
    "        c+=1\n",
    "    elif s[0] == s[1]:\n",
    "        e += 1\n",
    "c_lr = round(c/len(S),2) \n",
    "e_lr = round(e/len(S),2)    \n",
    "print(c_lr)\n",
    "print(e_lr)"
   ]
  },
  {
   "cell_type": "markdown",
   "metadata": {},
   "source": [
    "# information on Pommaret Bases"
   ]
  },
  {
   "cell_type": "code",
   "execution_count": null,
   "metadata": {},
   "outputs": [],
   "source": []
  },
  {
   "cell_type": "code",
   "execution_count": 104,
   "metadata": {},
   "outputs": [],
   "source": [
    "i = 1915\n",
    "\n",
    "with open('old/{}/all_ideals{}.pickle'.format(i,i), 'rb') as handle:\n",
    "    all_ideals1 = pickle.load(handle)       \n",
    "    \n",
    "with open('old/{}/all_moves{}.pickle'.format(i,i), 'rb') as handle:\n",
    "    all_moves1 = pickle.load(handle)  "
   ]
  },
  {
   "cell_type": "code",
   "execution_count": 105,
   "metadata": {},
   "outputs": [],
   "source": [
    "i = 1821\n",
    "\n",
    "with open('old/{}/all_ideals{}.pickle'.format(i,i), 'rb') as handle:\n",
    "    all_ideals2 = pickle.load(handle)       \n",
    "    \n",
    "with open('old/{}/all_moves{}.pickle'.format(i,i), 'rb') as handle:\n",
    "    all_moves2 = pickle.load(handle)"
   ]
  },
  {
   "cell_type": "code",
   "execution_count": 106,
   "metadata": {},
   "outputs": [],
   "source": [
    "i = 2941\n",
    "\n",
    "with open('old/{}/all_ideals{}.pickle'.format(i,i), 'rb') as handle:\n",
    "    all_ideals3 = pickle.load(handle)       \n",
    "    \n",
    "with open('old/{}/all_moves{}.pickle'.format(i,i), 'rb') as handle:\n",
    "    all_moves3 = pickle.load(handle)     "
   ]
  },
  {
   "cell_type": "code",
   "execution_count": 107,
   "metadata": {},
   "outputs": [],
   "source": [
    "i = 3004\n",
    "\n",
    "with open('old/{}/all_ideals{}.pickle'.format(i, 3003), 'rb') as handle:\n",
    "    all_ideals4 = pickle.load(handle)       \n",
    "    \n",
    "with open('old/{}/all_moves{}.pickle'.format(i, 3003), 'rb') as handle:\n",
    "    all_moves4 = pickle.load(handle)  "
   ]
  },
  {
   "cell_type": "code",
   "execution_count": 108,
   "metadata": {},
   "outputs": [],
   "source": [
    "i = 4480\n",
    "\n",
    "with open('old/{}/all_ideals{}.pickle'.format(i,i), 'rb') as handle:\n",
    "    all_ideals5 = pickle.load(handle)       \n",
    "    \n",
    "with open('old/{}/all_moves{}.pickle'.format(i,i), 'rb') as handle:\n",
    "    all_moves5 = pickle.load(handle)     "
   ]
  },
  {
   "cell_type": "code",
   "execution_count": 109,
   "metadata": {},
   "outputs": [],
   "source": [
    "i = 5471\n",
    "\n",
    "with open('old/{}/all_ideals{}.pickle'.format(i,5470), 'rb') as handle:\n",
    "    all_ideals6 = pickle.load(handle)       \n",
    "    \n",
    "with open('old/{}/all_moves{}.pickle'.format(i,5470), 'rb') as handle:\n",
    "    all_moves6 = pickle.load(handle)   "
   ]
  },
  {
   "cell_type": "code",
   "execution_count": 110,
   "metadata": {},
   "outputs": [],
   "source": [
    "i = 6561\n",
    "\n",
    "with open('old/{}/all_ideals{}.pickle'.format(i,6560), 'rb') as handle:\n",
    "    all_ideals7 = pickle.load(handle)       \n",
    "    \n",
    "with open('old/{}/all_moves{}.pickle'.format(i,6560), 'rb') as handle:\n",
    "    all_moves7 = pickle.load(handle) "
   ]
  },
  {
   "cell_type": "code",
   "execution_count": 111,
   "metadata": {},
   "outputs": [],
   "source": [
    "i = 7874\n",
    "\n",
    "with open('old/{}/all_ideals{}.pickle'.format(i,7873), 'rb') as handle:\n",
    "    all_ideals8 = pickle.load(handle)       \n",
    "    \n",
    "with open('old/{}/all_moves{}.pickle'.format(i,7873), 'rb') as handle:\n",
    "    all_moves8 = pickle.load(handle)"
   ]
  },
  {
   "cell_type": "code",
   "execution_count": 119,
   "metadata": {},
   "outputs": [],
   "source": [
    "i = 8613\n",
    "\n",
    "with open('old/{}/all_ideals{}.pickle'.format(i,i-1), 'rb') as handle:\n",
    "    all_ideals9 = pickle.load(handle)       \n",
    "    \n",
    "with open('old/{}/all_moves{}.pickle'.format(i,i-1), 'rb') as handle:\n",
    "    all_moves9 = pickle.load(handle)"
   ]
  },
  {
   "cell_type": "code",
   "execution_count": 117,
   "metadata": {},
   "outputs": [],
   "source": [
    "i = 9508\n",
    "\n",
    "with open('old/{}/all_ideals{}.pickle'.format(i,i), 'rb') as handle:\n",
    "    all_ideals10 = pickle.load(handle)       \n",
    "    \n",
    "with open('old/{}/all_moves{}.pickle'.format(i,i), 'rb') as handle:\n",
    "    all_moves10 = pickle.load(handle)"
   ]
  },
  {
   "cell_type": "code",
   "execution_count": 126,
   "metadata": {},
   "outputs": [
    {
     "data": {
      "image/png": "[encoded data removed]",
      "text/plain": [
       "<Figure size 432x288 with 1 Axes>"
      ]
     },
     "metadata": {
      "needs_background": "light"
     },
     "output_type": "display_data"
    }
   ],
   "source": [
    "all_ideals = all_ideals1 + all_ideals2 + all_ideals4 + all_ideals5 + all_ideals6 + all_ideals7 + all_ideals8 + all_ideals9 + all_ideals10 \n",
    "all_moves = all_moves1 + all_moves2  + all_moves4 + all_moves5 + all_moves6 + all_moves7 + all_moves8 + all_moves9 + all_moves10\n",
    "\n",
    "\n",
    "terms = []\n",
    "n_transformations = []\n",
    "for i in range(len(all_ideals)):\n",
    "    terms.append([ num_terms(all_ideals[i][0]),   num_terms(all_ideals[i][-1])])\n",
    "    n_transformations.append(len(all_moves[i]))\n",
    "    \n",
    "from collections import Counter\n",
    "numbers = n_transformations\n",
    "frequency = Counter(numbers)\n",
    "\n",
    "\n",
    "# Get the unique numbers and their corresponding frequencies\n",
    "unique_numbers = sorted(list(frequency.keys()))\n",
    "frequency_counts = [frequency[num] for num in unique_numbers]\n",
    "\n",
    "# Generate x-axis values\n",
    "x = list(range(1, len(unique_numbers) + 1))\n",
    "\n",
    "# Create the bar plot\n",
    "plt.bar(x, frequency_counts, color = \"green\")\n",
    "\n",
    "# Set x-axis tick labels\n",
    "plt.xticks(x, unique_numbers)\n",
    "\n",
    "# Add labels and title\n",
    "plt.xlabel('Number of transformations')\n",
    "plt.ylabel('Frequency')\n",
    "plt.savefig(\"Number_of_Transformations (GB as input).png\")   \n",
    "# Display the plot"
   ]
  }
 ],
 "metadata": {
  "kernelspec": {
   "display_name": "SageMath 10.2",
   "language": "sage",
   "name": "sagemath"
  },
  "language_info": {
   "codemirror_mode": {
    "name": "ipython",
    "version": 3
   },
   "file_extension": ".py",
   "mimetype": "text/x-python",
   "name": "python",
   "nbconvert_exporter": "python",
   "pygments_lexer": "ipython3",
   "version": "3.11.1"
  }
 },
 "nbformat": 4,
 "nbformat_minor": 4
}
