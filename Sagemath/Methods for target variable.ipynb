{
 "cells": [
  {
   "cell_type": "code",
   "execution_count": 1,
   "metadata": {},
   "outputs": [],
   "source": [
    "%run 1.Functions.ipynb\n",
    "%run Old_Functions.ipynb"
   ]
  },
  {
   "cell_type": "code",
   "execution_count": 2,
   "metadata": {},
   "outputs": [],
   "source": [
    "path_ideal = \"/Users/mahshid/Documents/Database/4Variables-poisson/Ideals/\"\n",
    "\n",
    "n = 2000\n",
    "Ideals = []\n",
    "for i in range(n):\n",
    "    with open(path_ideal + 'Ideal{}.pickle'.format(i), 'rb') as handle:\n",
    "        I = pickle.load(handle)\n",
    "        Ideals.append(I)"
   ]
  },
  {
   "cell_type": "code",
   "execution_count": 6,
   "metadata": {},
   "outputs": [],
   "source": [
    "def Method1(I):\n",
    "    All_moves = []                                      # compute all possible moves\n",
    "    for i in range(2,len(P.gens()) + 1):\n",
    "        for j in range(1,i):\n",
    "            All_moves.append([i,j])\n",
    "    Moves = []        \n",
    "    for move in All_moves:                              # Choosing a MOVE\n",
    "        transformation = Transformation(I, move)        # Do the transformation on the ideal   \n",
    "        Ideal = ideal(f for f in transformation)                        \n",
    "        GB = Ideal.groebner_basis() \n",
    "        H = Fast_Monomial_Completion(LT_I(GB))     # Monomial Janet basis for the ideal after transfrmation\n",
    "        v = Volume_Polynomial_Pommaret(Beta_Vec_P(H), X1)\n",
    "        V = Coefficients(v, len(P.gens())-1)\n",
    "        Moves.append([move, V])\n",
    "    Moves = sorted(Moves, key=lambda x: x[1])   \n",
    "        \n",
    "    return Moves"
   ]
  },
  {
   "cell_type": "code",
   "execution_count": 3,
   "metadata": {},
   "outputs": [],
   "source": [
    "def Method2(I):\n",
    "    All_moves = []                                      # compute all possible moves\n",
    "    for i in range(2,len(P.gens()) + 1):\n",
    "        for j in range(1,i):\n",
    "            All_moves.append([i,j])\n",
    "    Moves = []        \n",
    "    for move in All_moves:                              # Choosing a MOVE\n",
    "        transformation = Transformation(I, move)        # Do the transformation on the ideal   \n",
    "        Ideal = ideal(f for f in transformation)                        \n",
    "        GB = Ideal.groebner_basis() \n",
    "        H = Fast_Monomial_Completion(LT_I(GB))     # Monomial Janet basis for the ideal after transfrmation\n",
    "        v = Volume_Polynomial_Pommaret2(H, X1)\n",
    "        V = Coefficients(v, len(P.gens())-1)\n",
    "        Moves.append([move, V])\n",
    "    Moves = sorted(Moves, key=lambda x: x[1])   \n",
    "        \n",
    "    return Moves"
   ]
  },
  {
   "cell_type": "code",
   "execution_count": 59,
   "metadata": {},
   "outputs": [],
   "source": [
    "def Method3(I): \n",
    "    All_moves = []                                      # compute all possible moves\n",
    "    for i in range(2,len(P.gens()) + 1):\n",
    "        for j in range(1,i):\n",
    "            All_moves.append([i,j]) \n",
    "    Moves = []        \n",
    "    for move in All_moves:                              # Choosing a MOVE\n",
    "        transformation = Transformation(I, move)        # Do the transformation on the ideal   \n",
    "        Ideal = ideal(f for f in transformation)                        \n",
    "        GB = Ideal.groebner_basis() \n",
    "        H = Fast_Monomial_Completion(LT_I(GB))     # Monomial Janet basis for the ideal after transfrmation\n",
    "        B = Beta_Vector(H)\n",
    "        B_P = Beta_Vec_P(H)\n",
    "        D = []\n",
    "        for i in range(len(P.gens())):\n",
    "            D.append(abs(B[i] - B_P[i]))\n",
    "        Moves.append([move, D])\n",
    "    Moves = sorted(Moves, key=lambda x: x[1])   \n",
    "        \n",
    "    return Moves"
   ]
  },
  {
   "cell_type": "code",
   "execution_count": 74,
   "metadata": {},
   "outputs": [],
   "source": [
    "def Method4(I):\n",
    "    All_moves = []                                      # compute all possible moves\n",
    "    for i in range(2,len(P.gens()) + 1):\n",
    "        for j in range(1,i):\n",
    "            All_moves.append([i,j]) \n",
    "    Moves = []        \n",
    "    for move in All_moves:                              # Choosing a MOVE\n",
    "        transformation = Transformation(I, move)        # Do the transformation on the ideal   \n",
    "        Ideal = ideal(f for f in transformation)                        \n",
    "        GB = Ideal.groebner_basis() \n",
    "        H = Fast_Monomial_Completion(LT_I(GB))     # Monomial Janet basis for the ideal after transfrmation\n",
    "        B = Beta_Vector(H)\n",
    "        s = Sigma(H , B)\n",
    "        Moves.append([move, s])\n",
    "    Moves = sorted(Moves, key=lambda x: x[1])   \n",
    "        \n",
    "    return Moves"
   ]
  },
  {
   "cell_type": "code",
   "execution_count": 119,
   "metadata": {},
   "outputs": [],
   "source": [
    "def Method5(I):\n",
    "    All_moves = []                                      # compute all possible moves\n",
    "    for i in range(2,len(P.gens()) + 1):\n",
    "        for j in range(1,i):\n",
    "            All_moves.append([i,j]) \n",
    "    Moves = []        \n",
    "    for move in All_moves:                              # Choosing a MOVE\n",
    "        transformation = Transformation(I, move)        # Do the transformation on the ideal   \n",
    "        Ideal = ideal(f for f in transformation)                        \n",
    "        GB = Ideal.groebner_basis() \n",
    "        H = Fast_Monomial_Completion(LT_I(GB))     # Monomial Janet basis for the ideal after transfrmation\n",
    "        B = Beta_Vector(H)\n",
    "        s = Sigma2(H)\n",
    "        Moves.append([move, s])\n",
    "    Moves = sorted(Moves, key=lambda x: x[1])   \n",
    "        \n",
    "    return Moves"
   ]
  },
  {
   "cell_type": "code",
   "execution_count": 120,
   "metadata": {},
   "outputs": [],
   "source": [
    "def Sigma(H , B):\n",
    "    s = 0\n",
    "    BP = Beta_Vec_P(H)\n",
    "    BP.reverse()\n",
    "    B.reverse()\n",
    "    for k in range(len(P.gens())):\n",
    "        s += (k + 2) *(B[k] - BP[k])\n",
    "    return s"
   ]
  },
  {
   "cell_type": "code",
   "execution_count": 121,
   "metadata": {},
   "outputs": [],
   "source": [
    "def Sigma2(H):\n",
    "    s = 0\n",
    "    BP = Beta_Vec_P(H)\n",
    "    BP.reverse()\n",
    "    for k in range(1, len(P.gens()) + 1):\n",
    "        s += k * BP[k - 1]      \n",
    "        \n",
    "    return  round(s / Volume_Polynomial(H, max_deg(H) + 1), 3)"
   ]
  },
  {
   "cell_type": "code",
   "execution_count": 39,
   "metadata": {},
   "outputs": [
    {
     "name": "stderr",
     "output_type": "stream",
     "text": [
      "100%|█████████████████████████████████████████| 500/500 [00:33<00:00, 14.86it/s]\n"
     ]
    }
   ],
   "source": [
    "QS = []\n",
    "Obstructions = []\n",
    "for i in tqdm.tqdm(range(len(Ideals))):\n",
    "    Q = QS_moves(Ideals[i])\n",
    "    QS.append(Q)\n",
    "    Obstructions.append([Q[i][0] for i in range(len(Q))])"
   ]
  },
  {
   "cell_type": "code",
   "execution_count": 105,
   "metadata": {},
   "outputs": [],
   "source": [
    "def percentage_in_obstructions(Outputs, Obstructions, QS):\n",
    "    c = 0\n",
    "    s = 0\n",
    "    for i in range(len(Obstructions)):\n",
    "        if Outputs[i] in Obstructions[i]:\n",
    "            c += 1\n",
    "            s += QS[i][Obstructions[i].index(Outputs[i])][1]\n",
    "    return round(c/5, 2), s        "
   ]
  },
  {
   "cell_type": "code",
   "execution_count": null,
   "metadata": {},
   "outputs": [],
   "source": []
  },
  {
   "cell_type": "code",
   "execution_count": null,
   "metadata": {},
   "outputs": [],
   "source": []
  },
  {
   "cell_type": "code",
   "execution_count": 129,
   "metadata": {},
   "outputs": [
    {
     "data": {
      "text/plain": [
       "[[[3, 2], 2]]"
      ]
     },
     "execution_count": 129,
     "metadata": {},
     "output_type": "execute_result"
    }
   ],
   "source": [
    "QS[1]"
   ]
  },
  {
   "cell_type": "code",
   "execution_count": 104,
   "metadata": {},
   "outputs": [
    {
     "data": {
      "text/plain": [
       "2"
      ]
     },
     "execution_count": 104,
     "metadata": {},
     "output_type": "execute_result"
    }
   ],
   "source": [
    "Obstructions[0].index([4,1])"
   ]
  },
  {
   "cell_type": "code",
   "execution_count": 103,
   "metadata": {},
   "outputs": [
    {
     "data": {
      "text/plain": [
       "0"
      ]
     },
     "execution_count": 103,
     "metadata": {},
     "output_type": "execute_result"
    }
   ],
   "source": [
    "A = [1,2,3,4]\n",
    "A.index(1)"
   ]
  },
  {
   "cell_type": "markdown",
   "metadata": {},
   "source": [
    "#  Method 1:\n",
    "Comparing Volume polynomials (with Beta vectos of Pommaret span)."
   ]
  },
  {
   "cell_type": "code",
   "execution_count": 7,
   "metadata": {},
   "outputs": [],
   "source": [
    "def Volume_Polynomial_Pommaret(B, r):\n",
    "    v = 0\n",
    "    B.reverse()\n",
    "    for i in range(len(B)):\n",
    "        v += B[i]* Combination(r + i, i)\n",
    "    return v "
   ]
  },
  {
   "cell_type": "code",
   "execution_count": 31,
   "metadata": {},
   "outputs": [
    {
     "name": "stderr",
     "output_type": "stream",
     "text": [
      "100%|█████████████████████████████████████████| 500/500 [37:00<00:00,  4.44s/it]\n"
     ]
    }
   ],
   "source": [
    "Errors1 = []    # Check increasing of Volume polynomial of Pommaret span\n",
    "Outputs1 = []\n",
    "for i in tqdm.tqdm(range(len(Ideals))):\n",
    "    F = Ideals[i]\n",
    "    Moves = Method1(F)\n",
    "    Outputs1.append(Moves[-1][0])\n",
    "    I = ideal(f for f in F)\n",
    "    G = I.groebner_basis()\n",
    "    H = Fast_Monomial_Completion(LT_I(G))\n",
    "    v = Volume_Polynomial_Pommaret(Beta_Vec_P(H), X1)\n",
    "    V = Coefficients(v, len(P.gens())-1)    \n",
    "    #if V > Moves[-1][1]:\n",
    "        #Errors1.append([i, Beta_vector(H)])\n",
    "        #break"
   ]
  },
  {
   "cell_type": "code",
   "execution_count": 32,
   "metadata": {},
   "outputs": [
    {
     "data": {
      "text/plain": [
       "[]"
      ]
     },
     "execution_count": 32,
     "metadata": {},
     "output_type": "execute_result"
    }
   ],
   "source": [
    "Errors"
   ]
  },
  {
   "cell_type": "code",
   "execution_count": 106,
   "metadata": {},
   "outputs": [
    {
     "name": "stdout",
     "output_type": "stream",
     "text": [
      "85.6\n",
      "4196\n"
     ]
    }
   ],
   "source": [
    "p1 , score1 = percentage_in_obstructions(Outputs1, Obstructions, QS) \n",
    "print(p1)\n",
    "print(score1)"
   ]
  },
  {
   "cell_type": "markdown",
   "metadata": {},
   "source": [
    "#  Method 2:\n",
    "Comparing Volume polynomials (with Pommaret multiplicative variables)."
   ]
  },
  {
   "cell_type": "code",
   "execution_count": 4,
   "metadata": {},
   "outputs": [],
   "source": [
    "def Volume_Polynomial_Pommaret2(H, r):\n",
    "    s = 0\n",
    "    for h in H:\n",
    "        d = h.degree()\n",
    "        s += Combination(r - d + clss(h) - 1, clss(h) - 1)\n",
    "    return s"
   ]
  },
  {
   "cell_type": "code",
   "execution_count": 51,
   "metadata": {},
   "outputs": [
    {
     "name": "stderr",
     "output_type": "stream",
     "text": [
      "100%|█████████████████████████████████████████| 500/500 [14:01<00:00,  1.68s/it]\n"
     ]
    }
   ],
   "source": [
    "Errors2 = []    # Check increasing of Volume polynomial of Pommaret span\n",
    "Outputs2 = []\n",
    "for i in tqdm.tqdm(range(len(Ideals))):\n",
    "    F = Ideals[i]\n",
    "    Moves = Method2(F)\n",
    "    Outputs2.append(Moves[-1][0])\n",
    "    I = ideal(f for f in F)\n",
    "    G = I.groebner_basis()\n",
    "    H = Fast_Monomial_Completion(LT_I(G))\n",
    "    v = Volume_Polynomial_Pommaret2(H, X1)\n",
    "    V = Coefficients(v, len(P.gens())-1)    \n",
    "    if V > Moves[-1][1]:\n",
    "        Errors2.append([i, Beta_vector(H)])\n",
    "        break"
   ]
  },
  {
   "cell_type": "code",
   "execution_count": 52,
   "metadata": {},
   "outputs": [
    {
     "data": {
      "text/plain": [
       "0"
      ]
     },
     "execution_count": 52,
     "metadata": {},
     "output_type": "execute_result"
    }
   ],
   "source": [
    "len(Errors2)"
   ]
  },
  {
   "cell_type": "code",
   "execution_count": 107,
   "metadata": {},
   "outputs": [
    {
     "name": "stdout",
     "output_type": "stream",
     "text": [
      "90.6\n",
      "4510\n"
     ]
    }
   ],
   "source": [
    "p2 , score2 = percentage_in_obstructions(Outputs2, Obstructions, QS) \n",
    "print(p2)\n",
    "print(score2)"
   ]
  },
  {
   "cell_type": "markdown",
   "metadata": {},
   "source": [
    "# Method 3:\n",
    "Comparing Beta vectors of Pommaret span with Beta vector of ideal\n",
    "by choosing the $\\beta_p$ which has the lowest vector\n",
    "\n",
    "$(|\\beta^n - \\beta^n_p| , \\ldots,|\\beta^1 - \\beta^1_p|)$\n",
    "\n",
    "with lexicographic order.  "
   ]
  },
  {
   "cell_type": "code",
   "execution_count": 69,
   "metadata": {},
   "outputs": [
    {
     "name": "stderr",
     "output_type": "stream",
     "text": [
      "100%|█████████████████████████████████████████| 500/500 [36:16<00:00,  4.35s/it]\n"
     ]
    }
   ],
   "source": [
    "Outputs3 = []\n",
    "for i in tqdm.tqdm(range(len(Ideals))):\n",
    "    F = Ideals[i]\n",
    "    Moves = Method3(F)\n",
    "    Outputs3.append(Moves[0][0])"
   ]
  },
  {
   "cell_type": "markdown",
   "metadata": {},
   "source": [
    "# Method 4:\n",
    "Comparing Beta vectors of Pommaret span with Beta vector of ideal\n",
    "by Cartan test\n",
    "\n",
    "$\\sigma = \\sum_{k=1}^n (k+1) (\\beta^k - \\beta^k_p)$\n",
    "\n",
    "The lowest $\\sigma$ is the best. "
   ]
  },
  {
   "cell_type": "code",
   "execution_count": 67,
   "metadata": {},
   "outputs": [
    {
     "name": "stderr",
     "output_type": "stream",
     "text": [
      "100%|███████████████████████████████████████| 500/500 [1:40:15<00:00, 12.03s/it]\n"
     ]
    }
   ],
   "source": [
    "# check Positivity of score\n",
    "Errors4 = []\n",
    "for j in tqdm.tqdm(range(len(Ideals))):\n",
    "    F = Ideals[i]\n",
    "    I = ideal(f for f in F)\n",
    "    G = I.groebner_basis()\n",
    "    H = Fast_Monomial_Completion(LT_I(G))\n",
    "    B = Beta_Vector(H)\n",
    "    f = Sigma(H, B)\n",
    "    if f < 0:\n",
    "        Errors4.append([j, len(JB[j])]) "
   ]
  },
  {
   "cell_type": "code",
   "execution_count": 68,
   "metadata": {},
   "outputs": [
    {
     "data": {
      "text/plain": [
       "0"
      ]
     },
     "execution_count": 68,
     "metadata": {},
     "output_type": "execute_result"
    }
   ],
   "source": [
    "len(Errors4)"
   ]
  },
  {
   "cell_type": "code",
   "execution_count": 75,
   "metadata": {},
   "outputs": [
    {
     "name": "stderr",
     "output_type": "stream",
     "text": [
      "100%|█████████████████████████████████████████| 500/500 [54:22<00:00,  6.53s/it]\n"
     ]
    }
   ],
   "source": [
    "Outputs4 = []\n",
    "for i in tqdm.tqdm(range(len(Ideals))):\n",
    "    F = Ideals[i]\n",
    "    Moves = Method4(F)\n",
    "    Outputs4.append([Moves[0][0]])\n",
    "    I = ideal(f for f in F)\n",
    "    G = I.groebner_basis()\n",
    "    H = Fast_Monomial_Completion(LT_I(G))\n",
    "    B = Beta_Vector(H) \n",
    "    f = Sigma(H, B)\n",
    "    if f < Moves[-1][1]:\n",
    "        Errors4.append([i, f, Moves])"
   ]
  },
  {
   "cell_type": "code",
   "execution_count": 76,
   "metadata": {},
   "outputs": [
    {
     "data": {
      "text/plain": [
       "26"
      ]
     },
     "execution_count": 76,
     "metadata": {},
     "output_type": "execute_result"
    }
   ],
   "source": [
    "len(Errors4)"
   ]
  },
  {
   "cell_type": "markdown",
   "metadata": {},
   "source": [
    "# Method 5\n",
    "$\\sigma = \\frac{\\dim_K I_{q+1}}{\\sum k\\beta_P^k}$"
   ]
  },
  {
   "cell_type": "code",
   "execution_count": 124,
   "metadata": {},
   "outputs": [
    {
     "name": "stderr",
     "output_type": "stream",
     "text": [
      "100%|█████████████████████████████████████████| 500/500 [48:24<00:00,  5.81s/it]\n"
     ]
    }
   ],
   "source": [
    "Errors5 = []\n",
    "Outputs5 = []\n",
    "for i in tqdm.tqdm(range(len(Ideals))):\n",
    "    F = Ideals[i]\n",
    "    Moves = Method5(F)\n",
    "    Outputs5.append(Moves[-1][0])\n",
    "    I = ideal(f for f in F)\n",
    "    G = I.groebner_basis()\n",
    "    H = Fast_Monomial_Completion(LT_I(G))\n",
    "    B = Beta_Vector(H) \n",
    "    f = Sigma2(H)\n",
    "    if f > Moves[-1][1]:\n",
    "        Errors5.append([i, f, Moves])"
   ]
  },
  {
   "cell_type": "code",
   "execution_count": 125,
   "metadata": {},
   "outputs": [
    {
     "data": {
      "text/plain": [
       "0"
      ]
     },
     "execution_count": 125,
     "metadata": {},
     "output_type": "execute_result"
    }
   ],
   "source": [
    "len(Errors5)"
   ]
  },
  {
   "cell_type": "code",
   "execution_count": 126,
   "metadata": {},
   "outputs": [
    {
     "name": "stdout",
     "output_type": "stream",
     "text": [
      "88.8\n",
      "5815\n"
     ]
    }
   ],
   "source": [
    "p5 , score5 = percentage_in_obstructions(Outputs5, Obstructions, QS) \n",
    "print(p5)\n",
    "print(score5)"
   ]
  },
  {
   "cell_type": "markdown",
   "metadata": {},
   "source": [
    "# Compare all methods"
   ]
  },
  {
   "cell_type": "code",
   "execution_count": 127,
   "metadata": {},
   "outputs": [
    {
     "name": "stdout",
     "output_type": "stream",
     "text": [
      "Method1 ->  85.6 %    Score:  4196\n",
      "Method2 ->  90.6 %    Score:  4510\n",
      "Method3 ->  91.8 %    Score:  4475\n",
      "Method4 ->  91.2 %    Score:  5641\n",
      "Method5 ->  88.8 %    Score:  5815\n"
     ]
    }
   ],
   "source": [
    "print(\"Method1 -> \",p1, \"%    Score: \", score1)\n",
    "print(\"Method2 -> \",p2, \"%    Score: \", score2)\n",
    "print(\"Method3 -> \",p3, \"%    Score: \", score3)\n",
    "print(\"Method4 -> \",p4, \"%    Score: \", score4)\n",
    "print(\"Method5 -> \",p5, \"%    Score: \", score5)"
   ]
  },
  {
   "cell_type": "code",
   "execution_count": null,
   "metadata": {},
   "outputs": [],
   "source": []
  }
 ],
 "metadata": {
  "kernelspec": {
   "display_name": "SageMath 9.5",
   "language": "sage",
   "name": "sagemath-9.5"
  },
  "language_info": {
   "codemirror_mode": {
    "name": "ipython",
    "version": 3
   },
   "file_extension": ".py",
   "mimetype": "text/x-python",
   "name": "python",
   "nbconvert_exporter": "python",
   "pygments_lexer": "ipython3",
   "version": "3.9.9"
  }
 },
 "nbformat": 4,
 "nbformat_minor": 4
}
